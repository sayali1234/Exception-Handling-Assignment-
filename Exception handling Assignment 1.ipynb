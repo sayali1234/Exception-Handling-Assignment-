{
 "cells": [
  {
   "cell_type": "code",
   "execution_count": null,
   "id": "efda235b-1260-4079-8267-a60d7e4261b1",
   "metadata": {},
   "outputs": [],
   "source": [
    "Q1) What is an Exception in python? Write the difference between Exceptions and Syntx errors.\n",
    "Ans: An exception is an event, which occurs during the execution of a program that disrupts the normal flow of the program's instructions. \n",
    "     Errors cannot be handled, while Python exceptions can be handled at the run time.The error implies a problem that mostly arises due to the shortage of \n",
    "     system resources. On the other hand, the exceptions occur during runtime and compile time. "
   ]
  },
  {
   "cell_type": "code",
   "execution_count": null,
   "id": "68ad7bf4-97a4-44d9-85fe-d6ab3ce92d45",
   "metadata": {},
   "outputs": [],
   "source": [
    "Q2) What happens when an exception is not handeled? Explain with an example.\n",
    "Ans: If an exception occurs during execution of the try clause, the exception may be handled by an except clause. If the exception is not handled by an except\n",
    "     clause, the exception is re-raised after the finally clause has been executed.\n",
    "     To handle the exception, we have put the code, result = numerator/denominator inside the try block. Now when an exception occurs, the rest of the code inside\n",
    "     the try block is skipped. The except block catches the exception and statements inside the except block are executed."
   ]
  },
  {
   "cell_type": "code",
   "execution_count": null,
   "id": "c52ced15-023d-41df-95fe-3d1e6e9822a6",
   "metadata": {},
   "outputs": [],
   "source": [
    "Q3) Which python statements are used to catch and handle exceptions? Explain with example.\n",
    "Ans: The try and except block in Python is used to catch and handle exceptions. Python executes code following the try statement as a “normal” part of the\n",
    "     program. The code that follows the except statement is the program's response to any exceptions in the preceding try clause."
   ]
  },
  {
   "cell_type": "code",
   "execution_count": null,
   "id": "78bab69e-0424-4971-a123-2ecab3f52616",
   "metadata": {},
   "outputs": [],
   "source": [
    "Q4) Explain with an example:\n",
    "    a.try and else\n",
    "    b.finally\n",
    "    c.raise\n",
    "Ans: a) try and else : The try block lets you test a block of code for errors.The code with the exception(s) to catch. If an exception is raised, it jumps\n",
    "        straight into the except block.\n",
    "        try:\n",
    "            1/0\n",
    "        except ZeroDivisionError :\n",
    "              print(\"divided by zero\")\n",
    "        print('This statement is always executed')\n",
    "        else : The else block lets you execute code when there is no error.The code enters the else block only if the try clause does not raise an exception.\n",
    "        number = 10\n",
    "        if number > 0:\n",
    "            print('Positive number')\n",
    "        else:\n",
    "             print('Negative number')\n",
    "        print('This statement is always executed')\n",
    "    b)finally: The finally block will be executed no matter if the try block raises an error or not. This can be useful to close objects and clean up resources.\n",
    "      The finally keyword is used to execute code no matter if there is an exception or not.\n",
    "    try:\n",
    "        x>3\n",
    "    except:\n",
    "          print(\"Something went wrong\")\n",
    "    finally:\n",
    "          print(\"The try...except block is finished\")\n",
    "    c)raise: The raise keyword is used to raise an exception. You can define what kind of error to raise, and the text to print to the user.\n",
    "    x = \"hello\"\n",
    "    if not type(x) is int:\n",
    "        raise TypeError(\"Only integers are allowed\")"
   ]
  },
  {
   "cell_type": "markdown",
   "id": "7dbc1629-4dd0-4d05-b25c-fa4b1d9cb6f3",
   "metadata": {},
   "source": [
    "Q5) What are Custom Exceptions in python? Why do we need Custom Exceptions? Explain with an example.\n",
    "Ans: In Python, we can define custom exceptions by creating a new class that is derived from the built-in Exception class. \n",
    "     Python is known for its readability and user-friendliness; using custom exceptions can help us improve this even more, especially when we are designing our        package. If you decide to avoid, at all costs, custom exceptions by using only built-in ones, you risk decreasing Python's readability."
   ]
  },
  {
   "cell_type": "code",
   "execution_count": null,
   "id": "2a5752b5-a1a7-4ce5-ad1c-510c3e45f109",
   "metadata": {},
   "outputs": [],
   "source": [
    "Q6) Create a Custom Exception class.Use this class to handle an exception.\n",
    "Ans:  def enterAge(age):\n",
    "         if age<0:\n",
    "            raise ValueError('Only positive integers are allowed')\n",
    "            if age % 2 ==0:\n",
    "                print('Entered Age is even')\n",
    "        else:\n",
    "            print('Entered Age is odd')\n",
    "        try:\n",
    "            num = int(input('Enter your age: '))\n",
    "            enterAge(num)\n",
    "        except ValueError:\n",
    "            print('Only positive integers are allowed')"
   ]
  }
 ],
 "metadata": {
  "kernelspec": {
   "display_name": "Python 3 (ipykernel)",
   "language": "python",
   "name": "python3"
  },
  "language_info": {
   "codemirror_mode": {
    "name": "ipython",
    "version": 3
   },
   "file_extension": ".py",
   "mimetype": "text/x-python",
   "name": "python",
   "nbconvert_exporter": "python",
   "pygments_lexer": "ipython3",
   "version": "3.10.8"
  }
 },
 "nbformat": 4,
 "nbformat_minor": 5
}
